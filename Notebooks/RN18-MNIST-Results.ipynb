{
 "cells": [
  {
   "cell_type": "markdown",
   "metadata": {},
   "source": [
    "# MNIST Dataset\n",
    "\n",
    "I designed an 18 layer ResNet and used it to perform digit classification on the MNIST dataset. I ran a total of 16 Epochs on the training data. \n",
    "The batch size is 128, and I varied the learning rate and if regularization is used. The following is the summary of the results.\n",
    "\n",
    "| Epoch       | Learning rate | Regularization  | Optimizer | Test set accuracy | Train set accuracy |\n",
    "|:-----------:|:-------------:|:---------------:|:---------:|:-----------------:|:------------------:|\n",
    "| 1-4         | 0.025         | 0.0001          | Adam      | 0.8829            | 0.87615            |\n",
    "| 5-8         | 0.025         | No Reg.         | Adam      | 0.9755            | 0.9701             |\n",
    "| 9-12        | 0.01          | 0.0001          | Adam      | 0.9861            | 0.9918             |\n",
    "| 13-16       | 0.005         | 0.0001          | Adam      | 0.9927            | 0.9995             |\n",
    "\n",
    "The following is the result of the last run."
   ]
  },
  {
   "cell_type": "code",
   "execution_count": 1,
   "metadata": {},
   "outputs": [],
   "source": [
    "%run ../NNSolver/allModules.py\n",
    "import time\n",
    "import matplotlib.pyplot as pt\n",
    "import sys"
   ]
  },
  {
   "cell_type": "code",
   "execution_count": 2,
   "metadata": {},
   "outputs": [],
   "source": [
    "HPara = {}\n",
    "HPara['BATCH_SIZE'] = 128           # Mini batch size\n",
    "HPara['ALPHA'] = 0.005             # Learning rate\n",
    "HPara['REGULARIZATION'] = True   # True or False\n",
    "HPara['LAMBDA'] = 0.0001           # L2 regularization weight decay\n",
    "HPara['OPTIMIZER'] = \"Adam\"      # 'Basic' - simple gradient descent, 'Momentum' - momentum, 'Adam'\n",
    "HPara['BETAM'] = 0.9              # Momentum parameter\n",
    "HPara['BETAR'] = 0.99\n",
    "HPara['INITIALIZATION'] = 'He-2015'  "
   ]
  },
  {
   "cell_type": "code",
   "execution_count": 3,
   "metadata": {},
   "outputs": [],
   "source": [
    "data = np.load('../Dataset/MNIST/mnistData.npz')\n",
    "mnistSrc = ImageDataSource({'instanceName':'mnistSrc'})\n",
    "mnistSrc.setTrainData(data['trainImages'],data['trainLabels'])\n",
    "mnistSrc.setTestData(data['testImages'],data['testLabels'])"
   ]
  },
  {
   "cell_type": "code",
   "execution_count": 4,
   "metadata": {},
   "outputs": [],
   "source": [
    "pSize = 7\n",
    "rn18 = RN18({'instanceName':'rn18','c1OutChannel':16,'c2OutChannel':32,\n",
    "          'rnb1OutChannel':32,'rnb4OutChannel':64,'pSize':pSize,'classNum':10})"
   ]
  },
  {
   "cell_type": "code",
   "execution_count": 5,
   "metadata": {},
   "outputs": [],
   "source": [
    "imageSolver = Solver(mnistSrc,rn18)\n",
    "Layer.setHyperParameters(HPara)"
   ]
  },
  {
   "cell_type": "code",
   "execution_count": 6,
   "metadata": {},
   "outputs": [],
   "source": [
    "# number of past mean and std in normalization layer kept. used in inference mode\n",
    "Normalize.numStats = 100"
   ]
  },
  {
   "cell_type": "code",
   "execution_count": 7,
   "metadata": {},
   "outputs": [
    {
     "name": "stdout",
     "output_type": "stream",
     "text": [
      "\u001b[1mSoftmax\u001b[0m - RN18_softmax   has None object as top.\n"
     ]
    }
   ],
   "source": [
    "imageSolver.createStruct()"
   ]
  },
  {
   "cell_type": "code",
   "execution_count": 8,
   "metadata": {},
   "outputs": [],
   "source": [
    "imageSolver.loadParameters(\"mnist-rn18-parameters3.npz\")"
   ]
  },
  {
   "cell_type": "code",
   "execution_count": 9,
   "metadata": {},
   "outputs": [],
   "source": [
    "#imageSolver.solveNMiniBatch(5)"
   ]
  },
  {
   "cell_type": "code",
   "execution_count": 10,
   "metadata": {},
   "outputs": [
    {
     "name": "stdout",
     "output_type": "stream",
     "text": [
      "0  50  100  150  200  250  300  350  400  450  \n",
      "Epoch  1  completed, time:  3094.093549489975  seconds\n",
      "500  550  600  650  700  750  800  850  900  \n",
      "Epoch  2  completed, time:  6237.027838230133  seconds\n",
      "950  1000  1050  1100  1150  1200  1250  1300  1350  1400  \n",
      "Epoch  3  completed, time:  9352.909818172455  seconds\n",
      "1450  1500  1550  1600  1650  1700  1750  1800  1850  \n",
      "Epoch  4  completed, time:  12465.094442605972  seconds\n",
      "Time to process  4  epoches:  12465.094680786133  seconds.\n"
     ]
    }
   ],
   "source": [
    "Solver.miniCnt = 50\n",
    "N = 4\n",
    "imageSolver.solveNEpoch(N)\n",
    "imageSolver.saveParameters('mnist-rn18-parameters4.npz')"
   ]
  },
  {
   "cell_type": "code",
   "execution_count": 11,
   "metadata": {
    "scrolled": true
   },
   "outputs": [
    {
     "data": {
      "text/plain": [
       "[<matplotlib.lines.Line2D at 0x7f9a6f1388d0>]"
      ]
     },
     "execution_count": 11,
     "metadata": {},
     "output_type": "execute_result"
    },
    {
     "data": {
      "image/png": "[encoded data removed]",
      "text/plain": [
       "<Figure size 432x288 with 1 Axes>"
      ]
     },
     "metadata": {
      "needs_background": "light"
     },
     "output_type": "display_data"
    }
   ],
   "source": [
    "loss = rn18.lossData()\n",
    "pt.plot(loss)"
   ]
  },
  {
   "cell_type": "code",
   "execution_count": 12,
   "metadata": {},
   "outputs": [
    {
     "name": "stdout",
     "output_type": "stream",
     "text": [
      "0  50  \n",
      "Time to calculate  test  data accuracy:  198.84877800941467  seconds.\n",
      "Accuracy:  0.9927  with data set size  10000\n"
     ]
    }
   ],
   "source": [
    "testAccuracy = imageSolver.calcAccuracy('test')"
   ]
  },
  {
   "cell_type": "code",
   "execution_count": 13,
   "metadata": {},
   "outputs": [
    {
     "name": "stdout",
     "output_type": "stream",
     "text": [
      "0  50  100  150  200  250  300  350  400  450  \n",
      "Time to calculate  train  data accuracy:  1211.8214211463928  seconds.\n",
      "Accuracy:  0.9995333333333334  with data set size  60000\n"
     ]
    }
   ],
   "source": [
    "trainAccuracy = imageSolver.calcAccuracy('train')"
   ]
  },
  {
   "cell_type": "code",
   "execution_count": null,
   "metadata": {},
   "outputs": [],
   "source": []
  }
 ],
 "metadata": {
  "kernelspec": {
   "display_name": "Python 3",
   "language": "python",
   "name": "python3"
  },
  "language_info": {
   "codemirror_mode": {
    "name": "ipython",
    "version": 3
   },
   "file_extension": ".py",
   "mimetype": "text/x-python",
   "name": "python",
   "nbconvert_exporter": "python",
   "pygments_lexer": "ipython3",
   "version": "3.6.7"
  }
 },
 "nbformat": 4,
 "nbformat_minor": 2
}
