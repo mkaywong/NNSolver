{
 "cells": [
  {
   "cell_type": "markdown",
   "metadata": {},
   "source": [
    "# CIFAR-10 Dataset\n",
    "\n",
    "I implemented an 24 layer ResNet and used it to perform image classification on the CIFAR-10 dataset. I ran a total of 36 Epochs on the training data. The batch size is 128, and I varied the learning rate, optimizer and if regularization is used. The following is the summary of the results.\n",
    "\n",
    "| Epoch       | Learning rate | Regularization  | Optimizer | Test set accuracy | Train set accuracy |\n",
    "|:-----------:|:-------------:|:---------------:|:---------:|:-----------------:|:------------------:|\n",
    "| 1-8         | 0.05          | 0.0001          | Adam      | 0.5128            | 0.527              |\n",
    "| 9-16        | 0.025         | No Reg.         | Adam      | 0.6248            | 0.64496            |\n",
    "| 16-20       | 0.02          | 0.0001          | Adam      | 0.7088            | 0.75986            |\n",
    "| 21-24       | 0.01          | 0.0001          | Adam      | 0.7417            | 0.81488            |\n",
    "| 25-28       | 0.005         | 0.0001          | Adam      | 0.7552            | 0.8407             |\n",
    "| 29-36       | 0.01          | 0.0001          | Momentum  | 0.7618            | 0.85436            |\n",
    "\n",
    "The following is the result of the last run."
   ]
  },
  {
   "cell_type": "code",
   "execution_count": 1,
   "metadata": {},
   "outputs": [],
   "source": [
    "%run ../NNSolver/allModules.py\n",
    "import time\n",
    "import matplotlib.pyplot as pt\n",
    "import sys"
   ]
  },
  {
   "cell_type": "code",
   "execution_count": 2,
   "metadata": {},
   "outputs": [],
   "source": [
    "HPara = {}\n",
    "HPara['BATCH_SIZE'] = 128           # Mini batch size\n",
    "HPara['ALPHA'] = 0.01             # Learning rate\n",
    "HPara['REGULARIZATION'] = True   # True or False\n",
    "HPara['LAMBDA'] = 0.0001           # L2 regularization weight decay\n",
    "HPara['OPTIMIZER'] = \"Momentum\"      # 'Basic' - simple gradient descent, 'Momentum' - momentum, 'Adam'\n",
    "HPara['BETAM'] = 0.9              # Momentum parameter\n",
    "HPara['BETAR'] = 0.99\n",
    "HPara['INITIALIZATION'] = 'He-2015'  "
   ]
  },
  {
   "cell_type": "code",
   "execution_count": 3,
   "metadata": {},
   "outputs": [],
   "source": [
    "data = np.load('../Dataset/cifar-10/cifar10Data.npz')\n",
    "imageSrc = ImageDataSource({'instanceName':'cifar10Src'})\n",
    "imageSrc.setTrainData(data['trainImages'],data['trainLabels'])\n",
    "imageSrc.setTestData(data['testImages'],data['testLabels'])"
   ]
  },
  {
   "cell_type": "code",
   "execution_count": 4,
   "metadata": {},
   "outputs": [],
   "source": [
    "rn24 = RN24({'instanceName':'rn24','c1OutChannel':16,'c2OutChannel':32,\n",
    "          'rnb1OutChannel':32,'rnb4OutChannel':64,'pSize':8,'classNum':10})"
   ]
  },
  {
   "cell_type": "code",
   "execution_count": 5,
   "metadata": {},
   "outputs": [],
   "source": [
    "imageSolver = Solver(imageSrc,rn24)\n",
    "Layer.setHyperParameters(HPara)"
   ]
  },
  {
   "cell_type": "code",
   "execution_count": 6,
   "metadata": {},
   "outputs": [],
   "source": [
    "Normalize.numStats = 100"
   ]
  },
  {
   "cell_type": "code",
   "execution_count": 7,
   "metadata": {},
   "outputs": [
    {
     "name": "stdout",
     "output_type": "stream",
     "text": [
      "\u001b[1mSoftmax\u001b[0m - RN24_softmax   has None object as top.\n"
     ]
    }
   ],
   "source": [
    "imageSolver.createStruct()"
   ]
  },
  {
   "cell_type": "code",
   "execution_count": 8,
   "metadata": {},
   "outputs": [],
   "source": [
    "#imageSolver.printIOShape()"
   ]
  },
  {
   "cell_type": "code",
   "execution_count": 9,
   "metadata": {},
   "outputs": [],
   "source": [
    "imageSolver.loadParameters(\"cifar10-rn24-parameters5.npz\")"
   ]
  },
  {
   "cell_type": "code",
   "execution_count": 10,
   "metadata": {},
   "outputs": [],
   "source": [
    "#imageSolver.solveNMiniBatch(10)"
   ]
  },
  {
   "cell_type": "code",
   "execution_count": 11,
   "metadata": {},
   "outputs": [
    {
     "name": "stdout",
     "output_type": "stream",
     "text": [
      "0  50  100  150  200  250  300  350  \n",
      "Epoch  1  completed, time:  4206.130615949631  seconds\n",
      "400  450  500  550  600  650  700  750  \n",
      "Epoch  2  completed, time:  8410.119454145432  seconds\n",
      "800  850  900  950  1000  1050  1100  1150  \n",
      "Epoch  3  completed, time:  12618.442509412766  seconds\n",
      "1200  1250  1300  1350  1400  1450  1500  1550  \n",
      "Epoch  4  completed, time:  16830.01233625412  seconds\n",
      "1600  1650  1700  1750  1800  1850  1900  1950  \n",
      "Epoch  5  completed, time:  21033.390011548996  seconds\n",
      "2000  2050  2100  2150  2200  2250  2300  \n",
      "Epoch  6  completed, time:  25237.006262779236  seconds\n",
      "2350  2400  2450  2500  2550  2600  2650  2700  \n",
      "Epoch  7  completed, time:  29436.141282081604  seconds\n",
      "2750  2800  2850  2900  2950  3000  3050  3100  \n",
      "Epoch  8  completed, time:  33649.519292593  seconds\n",
      "Time to process  8  epoches:  33649.519847393036  seconds.\n"
     ]
    }
   ],
   "source": [
    "Solver.miniCnt = 50\n",
    "N = 8\n",
    "imageSolver.solveNEpoch(N)\n",
    "imageSolver.saveParameters('cifar10-rn24-parameters6.npz')"
   ]
  },
  {
   "cell_type": "code",
   "execution_count": 12,
   "metadata": {},
   "outputs": [
    {
     "data": {
      "text/plain": [
       "[<matplotlib.lines.Line2D at 0x7fe60f42d5f8>]"
      ]
     },
     "execution_count": 12,
     "metadata": {},
     "output_type": "execute_result"
    },
    {
     "data": {
      "image/png": "[encoded data removed]",
      "text/plain": [
       "<Figure size 432x288 with 1 Axes>"
      ]
     },
     "metadata": {
      "needs_background": "light"
     },
     "output_type": "display_data"
    }
   ],
   "source": [
    "loss = rn24.lossData()\n",
    "pt.plot(loss)"
   ]
  },
  {
   "cell_type": "code",
   "execution_count": 13,
   "metadata": {},
   "outputs": [
    {
     "name": "stdout",
     "output_type": "stream",
     "text": [
      "0  50  \n",
      "Time to calculate  test  data accuracy:  335.22782158851624  seconds.\n",
      "Accuracy:  0.7618  with data set size  10000\n"
     ]
    }
   ],
   "source": [
    "testAccuracy = imageSolver.calcAccuracy('test')"
   ]
  },
  {
   "cell_type": "code",
   "execution_count": 14,
   "metadata": {},
   "outputs": [
    {
     "name": "stdout",
     "output_type": "stream",
     "text": [
      "0  50  100  150  200  250  300  350  \n",
      "Time to calculate  train  data accuracy:  1696.2804639339447  seconds.\n",
      "Accuracy:  0.85436  with data set size  50000\n"
     ]
    }
   ],
   "source": [
    "trainAccuracy = imageSolver.calcAccuracy('train')"
   ]
  },
  {
   "cell_type": "code",
   "execution_count": null,
   "metadata": {},
   "outputs": [],
   "source": []
  }
 ],
 "metadata": {
  "kernelspec": {
   "display_name": "Python 3",
   "language": "python",
   "name": "python3"
  },
  "language_info": {
   "codemirror_mode": {
    "name": "ipython",
    "version": 3
   },
   "file_extension": ".py",
   "mimetype": "text/x-python",
   "name": "python",
   "nbconvert_exporter": "python",
   "pygments_lexer": "ipython3",
   "version": "3.6.7"
  }
 },
 "nbformat": 4,
 "nbformat_minor": 2
}
